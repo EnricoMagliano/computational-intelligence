{
 "cells": [
  {
   "cell_type": "code",
   "execution_count": 71,
   "metadata": {},
   "outputs": [],
   "source": [
    "import random"
   ]
  },
  {
   "cell_type": "code",
   "execution_count": 72,
   "metadata": {},
   "outputs": [],
   "source": [
    "def problem(N, seed=None):\n",
    "    random.seed(seed)\n",
    "    return [\n",
    "        list(set(random.randint(0, N - 1) for n in range(random.randint(N // 5, N // 2))))\n",
    "        for n in range(random.randint(N, N * 5))\n",
    "    ]"
   ]
  },
  {
   "cell_type": "code",
   "execution_count": 73,
   "metadata": {},
   "outputs": [],
   "source": [
    "from select import select\n",
    "\n",
    "class MyNode:\n",
    "    weight = 0\n",
    "    lists = []\n",
    "    numbers = []\n",
    "\n",
    "    def __init__(self, weight = 0, lists = [], numbers = []):\n",
    "        self.weight = weight\n",
    "        self.lists = lists\n",
    "        self.numbers = numbers\n",
    "\n",
    "    def calculate_weight(self):\n",
    "        weight = 0\n",
    "        for inner_list in self.lists:\n",
    "            for x in inner_list:\n",
    "                if x in self.numbers:\n",
    "                    weight+=1\n",
    "                else:\n",
    "                    self.numbers.append(x)\n",
    "        self.weight = weight \n",
    "    \n",
    "    def check_sol(self, N):\n",
    "        sol = True\n",
    "        for i in range(N):\n",
    "            if i not in self.numbers:\n",
    "                sol = False\n",
    "        return sol        \n",
    "\n",
    "def get_min_node(opened_list, N):\n",
    "    min_weigth = -1\n",
    "    sel_node = []\n",
    "    for node in opened_list:\n",
    "     \n",
    "        node.calculate_weight()\n",
    "        if min_weigth == -1 or min_weigth > node.weight:\n",
    "            min_weigth = node.weight\n",
    "            sel_node = node   \n",
    "    return sel_node        \n",
    "\n",
    "def get_child(select_nodes, listOfList):\n",
    "    childs = list()\n",
    "    for l in listOfList:\n",
    "        if l not in select_nodes.lists:\n",
    "            node = MyNode(0, select_nodes.lists)\n",
    "            node.lists.append(l)\n",
    "            childs.append(node)    \n",
    "    return childs       \n",
    "\n",
    "\n",
    "def UCF(listOfList, N):\n",
    "    first_node = MyNode()\n",
    "    opened_list = list()\n",
    "    closed_list = list()\n",
    "    opened_list.append(first_node)\n",
    "    \n",
    "    while True:\n",
    "        select_node = get_min_node(opened_list, N)\n",
    "        if select_node.check_sol(N):\n",
    "            print(select_node.lists)\n",
    "        closed_list.append(select_node)\n",
    "        opened_list.remove(select_node)\n",
    "        new_nodes = get_child(select_node, listOfList)\n",
    "        for node in new_nodes:\n",
    "           opened_list.append(node) #devrei fare controlle che non ci sia già stata aggiunta questa conbinazione\n",
    "\n",
    "\n",
    "\n",
    "def main(N):\n",
    "    listOfList = problem(N)\n",
    "    print(listOfList)\n",
    "\n",
    "    UCF(listOfList, N)\n",
    "        \n"
   ]
  },
  {
   "cell_type": "code",
   "execution_count": 74,
   "metadata": {},
   "outputs": [
    {
     "name": "stdout",
     "output_type": "stream",
     "text": [
      "[[2, 3], [6], [2, 3], [0, 3, 5], [3], [2, 6], [0, 2], [0, 4], [3, 5], [1, 4], [4], [0, 2, 4]]\n"
     ]
    },
    {
     "ename": "AttributeError",
     "evalue": "'MyNode' object has no attribute 'calculate_weigth'",
     "output_type": "error",
     "traceback": [
      "\u001b[1;31m---------------------------------------------------------------------------\u001b[0m",
      "\u001b[1;31mAttributeError\u001b[0m                            Traceback (most recent call last)",
      "Cell \u001b[1;32mIn [74], line 1\u001b[0m\n\u001b[1;32m----> 1\u001b[0m \u001b[43mmain\u001b[49m\u001b[43m(\u001b[49m\u001b[38;5;241;43m7\u001b[39;49m\u001b[43m)\u001b[49m\n",
      "Cell \u001b[1;32mIn [73], line 72\u001b[0m, in \u001b[0;36mmain\u001b[1;34m(N)\u001b[0m\n\u001b[0;32m     69\u001b[0m listOfList \u001b[38;5;241m=\u001b[39m problem(N)\n\u001b[0;32m     70\u001b[0m \u001b[38;5;28mprint\u001b[39m(listOfList)\n\u001b[1;32m---> 72\u001b[0m \u001b[43mUCF\u001b[49m\u001b[43m(\u001b[49m\u001b[43mlistOfList\u001b[49m\u001b[43m,\u001b[49m\u001b[43m \u001b[49m\u001b[43mN\u001b[49m\u001b[43m)\u001b[49m\n",
      "Cell \u001b[1;32mIn [73], line 64\u001b[0m, in \u001b[0;36mUCF\u001b[1;34m(listOfList, N)\u001b[0m\n\u001b[0;32m     62\u001b[0m new_nodes \u001b[38;5;241m=\u001b[39m get_child(select_node, listOfList)\n\u001b[0;32m     63\u001b[0m \u001b[38;5;28;01mfor\u001b[39;00m node \u001b[38;5;129;01min\u001b[39;00m new_nodes:\n\u001b[1;32m---> 64\u001b[0m     \u001b[43mnode\u001b[49m\u001b[38;5;241;43m.\u001b[39;49m\u001b[43mcalculate_weigth\u001b[49m()\n",
      "\u001b[1;31mAttributeError\u001b[0m: 'MyNode' object has no attribute 'calculate_weigth'"
     ]
    }
   ],
   "source": [
    "main(7)"
   ]
  }
 ],
 "metadata": {
  "kernelspec": {
   "display_name": "Python 3.10.2 64-bit",
   "language": "python",
   "name": "python3"
  },
  "language_info": {
   "codemirror_mode": {
    "name": "ipython",
    "version": 3
   },
   "file_extension": ".py",
   "mimetype": "text/x-python",
   "name": "python",
   "nbconvert_exporter": "python",
   "pygments_lexer": "ipython3",
   "version": "3.10.2"
  },
  "orig_nbformat": 4,
  "vscode": {
   "interpreter": {
    "hash": "26de051ba29f2982a8de78e945f0abaf191376122a1563185a90213a26c5da77"
   }
  }
 },
 "nbformat": 4,
 "nbformat_minor": 2
}

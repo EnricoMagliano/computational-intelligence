{
 "cells": [
  {
   "cell_type": "code",
   "execution_count": 245,
   "metadata": {},
   "outputs": [],
   "source": [
    "import random"
   ]
  },
  {
   "cell_type": "code",
   "execution_count": 246,
   "metadata": {},
   "outputs": [],
   "source": [
    "def problem(N, seed=None):\n",
    "    random.seed(seed)\n",
    "    return [\n",
    "        list(set(random.randint(0, N - 1) for n in range(random.randint(N // 5, N // 2))))\n",
    "        for n in range(random.randint(N, N * 5))\n",
    "    ]"
   ]
  },
  {
   "cell_type": "code",
   "execution_count": 247,
   "metadata": {},
   "outputs": [],
   "source": [
    "from select import select\n",
    "\n",
    "class MyNode:\n",
    "    weight = 0\n",
    "    lists = []\n",
    "    numbers = []\n",
    "\n",
    "    def __init__(self, weight = 0, lists = [], numbers = []):\n",
    "        self.weight = weight\n",
    "        self.lists = lists\n",
    "        self.numbers = numbers\n",
    "\n",
    "    def calculate_weight(self):\n",
    "        weight = 0\n",
    "        for inner_list in self.lists:\n",
    "            for x in inner_list:\n",
    "                if x in self.numbers:\n",
    "                    weight+=1\n",
    "                else:\n",
    "                    self.numbers.append(x)\n",
    "        self.weight = weight \n",
    "    \n",
    "    def check_sol(self, N):\n",
    "        sol = True\n",
    "        for i in range(N):\n",
    "           \n",
    "            if i not in self.numbers:\n",
    "                sol = False        \n",
    "        return sol        \n",
    "      \n",
    "\n",
    "def get_min_node(opened_list, N):\n",
    "    min_weigth = -1\n",
    "    sel_node = []\n",
    "    for node in opened_list:\n",
    "        if min_weigth == -1 or min_weigth > node.weight:\n",
    "            min_weigth = node.weight\n",
    "            sel_node = node   \n",
    "    return sel_node        \n",
    "\n",
    "def get_child(select_nodes, listOfList, opened_list):\n",
    "    for l in listOfList:\n",
    "        if l not in select_nodes.lists:\n",
    "            new_list = list()\n",
    "            for l2 in select_nodes.lists:\n",
    "                new_list.append(l2)\n",
    "            new_list.append(l)    \n",
    "            node = MyNode(0, new_list, list())\n",
    "            node.calculate_weight()\n",
    "            opened_list.append(node) \n",
    "            \n",
    "    return opened_list           \n",
    "          \n",
    "\n",
    "\n",
    "def UCF(listOfList, N):\n",
    "\n",
    "    first_node = MyNode()\n",
    "    opened_list = list()\n",
    "    closed_list = list()\n",
    "    opened_list.append(first_node)\n",
    "\n",
    "    \n",
    "    while True:\n",
    "        select_node = get_min_node(opened_list, N)\n",
    "        if select_node.check_sol(N):\n",
    "            print(\"sol: \", select_node.lists)\n",
    "            print(\"weight: \", select_node.weight)\n",
    "            return\n",
    "        closed_list.append(select_node)\n",
    "        opened_list.remove(select_node)\n",
    "        opened_list = get_child(select_node, listOfList, opened_list)\n",
    "        #print(\"after child gen ----\")\n",
    "        #for c in opened_list:\n",
    "        #    print(c.lists)\n",
    "        #    print(\"weight: \", c.weight)\n",
    "        \n",
    "\n",
    "\n",
    "\n",
    "def main(N):\n",
    "    listOfList = problem(N)\n",
    "    print(listOfList)\n",
    "    print(\"start UCF\")\n",
    "    UCF(listOfList, N)\n",
    "        \n"
   ]
  },
  {
   "cell_type": "code",
   "execution_count": 248,
   "metadata": {},
   "outputs": [
    {
     "name": "stdout",
     "output_type": "stream",
     "text": [
      "[[0, 1, 4], [4], [1, 3], [1, 4], [2, 3, 5], [0, 4], [6], [0], [1, 2, 5]]\n",
      "start UCF\n",
      "sol:  [[0, 1, 4], [2, 3, 5], [6]]\n",
      "weight:  0\n"
     ]
    }
   ],
   "source": [
    "main(7)"
   ]
  }
 ],
 "metadata": {
  "kernelspec": {
   "display_name": "Python 3.10.2 64-bit",
   "language": "python",
   "name": "python3"
  },
  "language_info": {
   "codemirror_mode": {
    "name": "ipython",
    "version": 3
   },
   "file_extension": ".py",
   "mimetype": "text/x-python",
   "name": "python",
   "nbconvert_exporter": "python",
   "pygments_lexer": "ipython3",
   "version": "3.10.2"
  },
  "orig_nbformat": 4,
  "vscode": {
   "interpreter": {
    "hash": "26de051ba29f2982a8de78e945f0abaf191376122a1563185a90213a26c5da77"
   }
  }
 },
 "nbformat": 4,
 "nbformat_minor": 2
}

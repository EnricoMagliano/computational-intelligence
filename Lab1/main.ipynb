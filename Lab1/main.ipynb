{
 "cells": [
  {
   "cell_type": "code",
   "execution_count": 149,
   "metadata": {},
   "outputs": [],
   "source": [
    "import random"
   ]
  },
  {
   "cell_type": "code",
   "execution_count": 150,
   "metadata": {},
   "outputs": [],
   "source": [
    "def problem(N, seed=None):\n",
    "    random.seed(seed)\n",
    "    return [\n",
    "        list(set(random.randint(0, N - 1) for n in range(random.randint(N // 5, N // 2))))\n",
    "        for n in range(random.randint(N, N * 5))\n",
    "    ]"
   ]
  },
  {
   "cell_type": "code",
   "execution_count": 151,
   "metadata": {},
   "outputs": [],
   "source": [
    "from select import select\n",
    "\n",
    "class MyNode:\n",
    "    weight = 0\n",
    "    lists = []\n",
    "    numbers = []\n",
    "\n",
    "    def __init__(self, weight = 0, lists = [], numbers = []):\n",
    "        self.weight = weight\n",
    "        self.lists = lists\n",
    "        self.numbers = numbers\n",
    "\n",
    "    def calculate_weight(self):\n",
    "        weight = 0\n",
    "        for inner_list in self.lists:\n",
    "            for x in inner_list:\n",
    "                if x in self.numbers:\n",
    "                    weight+=1\n",
    "                else:\n",
    "                    self.numbers.append(x)\n",
    "        self.weight = weight \n",
    "    \n",
    "    def check_sol(self, N):\n",
    "        sol = True\n",
    "        for i in range(N):\n",
    "           \n",
    "            if i not in self.numbers:\n",
    "                sol = False        \n",
    "        return sol        \n",
    "      \n",
    "\n",
    "def get_min_node(opened_list, N):\n",
    "    min_weigth = -1\n",
    "    sel_node = []\n",
    "    for node in opened_list:\n",
    "        if min_weigth == -1 or min_weigth > node.weight:\n",
    "            min_weigth = node.weight\n",
    "            sel_node = node   \n",
    "    return sel_node        \n",
    "\n",
    "def get_child(select_nodes, listOfList, opened_list):\n",
    "    for l in listOfList:\n",
    "        if l not in select_nodes.lists:\n",
    "            new_list = list()\n",
    "            for l2 in select_nodes.lists:\n",
    "                new_list.append(l2)\n",
    "            new_list.append(l)    \n",
    "            node = MyNode(0, new_list, list())\n",
    "            node.calculate_weight()\n",
    "            opened_list.append(node) \n",
    "            \n",
    "    return opened_list           \n",
    "          \n",
    "\n",
    "\n",
    "def UCF(listOfList, N):\n",
    "\n",
    "    first_node = MyNode()\n",
    "    opened_list = list()\n",
    "    closed_list = list()\n",
    "    opened_list.append(first_node)\n",
    "\n",
    "    \n",
    "    while True:\n",
    "        select_node = get_min_node(opened_list, N)\n",
    "        if select_node.check_sol(N):\n",
    "            print(\"sol: \", select_node.lists)\n",
    "            print(\"weight: \", select_node.weight)\n",
    "            return\n",
    "        closed_list.append(select_node)\n",
    "        opened_list.remove(select_node)\n",
    "        opened_list = get_child(select_node, listOfList, opened_list)\n",
    "        #print(\"after child gen ----\")\n",
    "        #for c in opened_list:\n",
    "        #    print(c.lists)\n",
    "        #    print(\"weight: \", c.weight)\n",
    "        \n",
    "\n",
    "\n",
    "\n",
    "def main(N):\n",
    "    listOfList = problem(N)\n",
    "    print(listOfList)\n",
    "    print(\"start UCF\")\n",
    "    UCF(listOfList, N)\n",
    "        \n"
   ]
  },
  {
   "cell_type": "code",
   "execution_count": 152,
   "metadata": {},
   "outputs": [
    {
     "name": "stdout",
     "output_type": "stream",
     "text": [
      "[[0, 2, 3, 8, 11, 13, 14], [2, 5, 6, 10, 17, 19], [0, 1, 2, 4, 5, 7, 8, 15, 18], [0, 4, 5, 8, 14, 17], [8, 9, 17, 1], [2, 3, 6, 7, 10, 11, 15, 17], [5, 6, 7, 8, 11, 13, 17], [9, 10, 11, 13], [0, 3, 6, 9, 10, 14, 18], [0, 2, 4, 6, 13, 14, 17, 19], [1, 7, 8, 12, 14, 15, 17], [3, 5, 8, 11, 15, 16, 19], [1, 5, 7, 11, 13, 17, 19], [0, 1, 3, 5, 6, 7, 9, 12, 18], [0, 11, 13, 15, 18], [1, 3, 4, 5, 7, 10, 13, 14, 15], [3, 6, 8, 9, 11, 15, 18, 19], [0, 1, 9, 11, 12, 18], [4, 8, 10, 11, 15, 17, 18], [8, 12, 5, 7], [8, 9, 18], [8, 17, 3, 12], [2, 4, 8, 9, 12, 17], [4, 7, 8, 11, 13, 19], [1, 2, 5, 8, 9, 19], [3, 5, 6, 12, 17], [1, 3, 7, 8, 10, 13, 18, 19], [0, 9, 2, 3], [0, 7, 8, 10, 11, 14], [0, 10, 13, 16, 18], [0, 1, 3, 4, 6, 7, 8, 10, 17], [2, 8, 9, 10, 12, 14, 17], [16, 1, 19, 12], [1, 3, 8, 10, 11, 16, 17], [2, 4, 9, 15, 16, 17], [0, 3, 5, 8, 11, 12, 14, 15, 19], [3, 5, 6, 13, 18], [2, 5, 7, 8, 9, 12, 16, 19], [0, 6, 12, 13, 15, 16, 17, 18], [1, 3, 5, 7, 8, 15], [2, 4, 6, 12, 13, 14, 19], [16, 9, 4, 12], [0, 3, 6, 9, 15, 17, 19], [3, 5, 8, 10, 17, 18, 19], [3, 7, 12, 14, 15, 17, 18], [8, 10, 4], [3, 5, 8, 16, 19], [2, 11, 14, 15, 17, 18], [16, 11, 6, 7], [0, 4, 5, 8, 9, 10, 11, 15, 16, 18], [0, 4, 6, 8, 9, 13, 14, 15, 18, 19], [1, 2, 11, 12, 15], [8, 9, 10, 12, 14, 18, 19], [0, 1, 3, 4, 11, 12, 16], [2, 3, 9, 12, 16, 17], [0, 5, 6, 8, 9, 12], [6, 10, 11, 15, 16, 18], [2, 5, 7, 8, 9, 10, 17, 18], [2, 5, 7, 11, 13, 16], [1, 3, 5, 9, 10, 11, 15, 17], [1, 2, 8, 14, 15], [4, 5, 7], [0, 1, 18, 6], [2, 3, 6, 7, 8, 11, 15], [16, 0, 18, 14], [1, 2, 10, 13, 14, 16], [1, 4, 6, 7, 10, 11, 17], [0, 14, 15, 17, 18], [9, 4, 14, 7], [3, 5, 6, 12, 14, 16], [16, 1, 4], [3, 4, 5, 11, 12, 14, 15], [7, 8, 9, 13, 14], [0, 6, 10, 11, 14, 19], [0, 3, 5, 15, 16, 18], [1, 2, 6, 8, 10, 13, 17, 18, 19], [0, 2, 3, 4, 10, 14, 15, 19], [1, 2, 4, 5, 7, 8, 9, 17], [1, 4, 5, 8, 9, 13], [9, 19, 6, 7], [0, 6, 8, 10, 12, 14, 16, 19], [0, 2, 6, 11, 13, 15, 16, 18], [3, 4, 5, 6, 7, 8, 9, 13, 17], [4, 6, 14, 15, 17], [5, 11, 12, 15, 16], [16, 0, 11, 5], [1, 5, 7, 8, 9, 11, 19], [4, 5, 9, 12, 16, 17], [1, 3, 5, 8, 11, 15, 17, 19], [1, 4, 5, 6, 13, 15, 17, 19], [1, 5, 9, 12, 13, 15, 16, 17, 18], [3, 18, 19, 6], [2, 3, 6, 15], [2, 6, 7, 9, 10, 12, 19], [0, 2, 4, 6, 7, 10, 13, 16, 17, 18], [3, 7, 9, 13, 17], [0, 1, 7, 8, 9, 11, 16, 19], [1, 4, 5, 6, 7, 12, 14, 17], [2, 19, 14, 6], [2, 3, 9, 11, 13]]\n",
      "start UCF\n",
      "Unexpected exception formatting exception. Falling back to standard exception\n"
     ]
    },
    {
     "name": "stderr",
     "output_type": "stream",
     "text": [
      "Traceback (most recent call last):\n",
      "  File \"C:\\Users\\Enrico\\AppData\\Roaming\\Python\\Python310\\site-packages\\IPython\\core\\interactiveshell.py\", line 3378, in run_code\n",
      "    exec(code_obj, self.user_global_ns, self.user_ns)\n",
      "  File \"C:\\Users\\Enrico\\AppData\\Local\\Temp\\ipykernel_12392\\626987483.py\", line 1, in <module>\n",
      "    main(20)\n",
      "  File \"C:\\Users\\Enrico\\AppData\\Local\\Temp\\ipykernel_12392\\3819410779.py\", line 91, in main\n",
      "    UCF(listOfList, N)\n",
      "  File \"C:\\Users\\Enrico\\AppData\\Local\\Temp\\ipykernel_12392\\3819410779.py\", line 71, in UCF\n",
      "    select_node = get_min_node(opened_list, N)\n",
      "  File \"C:\\Users\\Enrico\\AppData\\Local\\Temp\\ipykernel_12392\\3819410779.py\", line -1, in get_min_node\n",
      "KeyboardInterrupt\n",
      "\n",
      "During handling of the above exception, another exception occurred:\n",
      "\n",
      "Traceback (most recent call last):\n",
      "  File \"C:\\Users\\Enrico\\AppData\\Roaming\\Python\\Python310\\site-packages\\IPython\\core\\interactiveshell.py\", line 1997, in showtraceback\n",
      "    stb = self.InteractiveTB.structured_traceback(\n",
      "  File \"C:\\Users\\Enrico\\AppData\\Roaming\\Python\\Python310\\site-packages\\IPython\\core\\ultratb.py\", line 1112, in structured_traceback\n",
      "    return FormattedTB.structured_traceback(\n",
      "  File \"C:\\Users\\Enrico\\AppData\\Roaming\\Python\\Python310\\site-packages\\IPython\\core\\ultratb.py\", line 1006, in structured_traceback\n",
      "    return VerboseTB.structured_traceback(\n",
      "  File \"C:\\Users\\Enrico\\AppData\\Roaming\\Python\\Python310\\site-packages\\IPython\\core\\ultratb.py\", line 859, in structured_traceback\n",
      "    formatted_exception = self.format_exception_as_a_whole(etype, evalue, etb, number_of_lines_of_context,\n",
      "  File \"C:\\Users\\Enrico\\AppData\\Roaming\\Python\\Python310\\site-packages\\IPython\\core\\ultratb.py\", line 812, in format_exception_as_a_whole\n",
      "    frames.append(self.format_record(r))\n",
      "  File \"C:\\Users\\Enrico\\AppData\\Roaming\\Python\\Python310\\site-packages\\IPython\\core\\ultratb.py\", line 730, in format_record\n",
      "    result += ''.join(_format_traceback_lines(frame_info.lines, Colors, self.has_colors, lvals))\n",
      "  File \"C:\\Users\\Enrico\\AppData\\Roaming\\Python\\Python310\\site-packages\\stack_data\\utils.py\", line 145, in cached_property_wrapper\n",
      "    value = obj.__dict__[self.func.__name__] = self.func(obj)\n",
      "  File \"C:\\Users\\Enrico\\AppData\\Roaming\\Python\\Python310\\site-packages\\stack_data\\core.py\", line 734, in lines\n",
      "    pieces = self.included_pieces\n",
      "  File \"C:\\Users\\Enrico\\AppData\\Roaming\\Python\\Python310\\site-packages\\stack_data\\utils.py\", line 145, in cached_property_wrapper\n",
      "    value = obj.__dict__[self.func.__name__] = self.func(obj)\n",
      "  File \"C:\\Users\\Enrico\\AppData\\Roaming\\Python\\Python310\\site-packages\\stack_data\\core.py\", line 681, in included_pieces\n",
      "    pos = scope_pieces.index(self.executing_piece)\n",
      "  File \"C:\\Users\\Enrico\\AppData\\Roaming\\Python\\Python310\\site-packages\\stack_data\\utils.py\", line 145, in cached_property_wrapper\n",
      "    value = obj.__dict__[self.func.__name__] = self.func(obj)\n",
      "  File \"C:\\Users\\Enrico\\AppData\\Roaming\\Python\\Python310\\site-packages\\stack_data\\core.py\", line 660, in executing_piece\n",
      "    return only(\n",
      "  File \"C:\\Users\\Enrico\\AppData\\Roaming\\Python\\Python310\\site-packages\\executing\\executing.py\", line 168, in only\n",
      "    raise NotOneValueFound('Expected one value, found 0')\n",
      "executing.executing.NotOneValueFound: Expected one value, found 0\n"
     ]
    }
   ],
   "source": [
    "main(7)"
   ]
  }
 ],
 "metadata": {
  "kernelspec": {
   "display_name": "Python 3.10.2 64-bit",
   "language": "python",
   "name": "python3"
  },
  "language_info": {
   "codemirror_mode": {
    "name": "ipython",
    "version": 3
   },
   "file_extension": ".py",
   "mimetype": "text/x-python",
   "name": "python",
   "nbconvert_exporter": "python",
   "pygments_lexer": "ipython3",
   "version": "3.10.2"
  },
  "orig_nbformat": 4,
  "vscode": {
   "interpreter": {
    "hash": "26de051ba29f2982a8de78e945f0abaf191376122a1563185a90213a26c5da77"
   }
  }
 },
 "nbformat": 4,
 "nbformat_minor": 2
}

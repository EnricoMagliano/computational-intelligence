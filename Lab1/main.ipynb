{
 "cells": [
  {
   "cell_type": "code",
   "execution_count": 13,
   "metadata": {},
   "outputs": [],
   "source": [
    "import random"
   ]
  },
  {
   "cell_type": "code",
   "execution_count": 14,
   "metadata": {},
   "outputs": [],
   "source": [
    "def problem(N, seed=42):\n",
    "    random.seed(seed)\n",
    "    return [\n",
    "        list(set(random.randint(0, N - 1) for n in range(random.randint(N // 5, N // 2))))\n",
    "        for n in range(random.randint(N, N * 5))\n",
    "    ]"
   ]
  },
  {
   "cell_type": "code",
   "execution_count": 15,
   "metadata": {},
   "outputs": [],
   "source": [
    "from select import select\n",
    "\n",
    "class MyNode:\n",
    "    weight = 0\n",
    "    lists = []\n",
    "    numbers = []\n",
    "\n",
    "    def __init__(self, weight = 0, lists = [], numbers = []):\n",
    "        self.weight = weight\n",
    "        self.lists = lists\n",
    "        self.numbers = numbers\n",
    "\n",
    "    def calculate_weight(self):\n",
    "        weight = 0\n",
    "        for inner_list in self.lists:\n",
    "            for x in inner_list:\n",
    "                if x in self.numbers:\n",
    "                    weight+=1\n",
    "                else:\n",
    "                    self.numbers.append(x)\n",
    "        self.weight = weight \n",
    "    \n",
    "    def check_sol(self, N):\n",
    "        sol = True\n",
    "        for i in range(N):\n",
    "           \n",
    "            if i not in self.numbers:\n",
    "                sol = False        \n",
    "        return sol        \n",
    "      \n",
    "\n",
    "def get_min_node(opened_list, N):\n",
    "    min_weigth = -1\n",
    "    sel_node = []\n",
    "    for node in opened_list:\n",
    "        if min_weigth == -1 or min_weigth > node.weight:\n",
    "            min_weigth = node.weight\n",
    "            sel_node = node   \n",
    "    return sel_node        \n",
    "\n",
    "def get_child(select_nodes, listOfList, opened_list):\n",
    "    for l in listOfList:\n",
    "        if l not in select_nodes.lists:\n",
    "            new_list = list()\n",
    "            for l2 in select_nodes.lists:\n",
    "                new_list.append(l2)\n",
    "            new_list.append(l)    \n",
    "            node = MyNode(0, new_list, list())\n",
    "            node.calculate_weight()\n",
    "            opened_list.append(node) \n",
    "            \n",
    "    return opened_list           \n",
    "          \n",
    "\n",
    "\n",
    "def UCF(listOfList, N):\n",
    "\n",
    "    first_node = MyNode()\n",
    "    opened_list = list()\n",
    "    closed_list = list()\n",
    "    opened_list.append(first_node)\n",
    "\n",
    "    num_visited_nodes = 0\n",
    "    while True:\n",
    "        select_node = get_min_node(opened_list, N)\n",
    "        num_visited_nodes+=1\n",
    "        if select_node.check_sol(N):\n",
    "            print(\"sol: \", select_node.lists)\n",
    "            print(\"weight: \", select_node.weight)\n",
    "            print(\"number of nodes visited: \", num_visited_nodes)\n",
    "            return\n",
    "        closed_list.append(select_node)\n",
    "        opened_list.remove(select_node)\n",
    "        opened_list = get_child(select_node, listOfList, opened_list)\n",
    "        #print(\"after child gen ----\")\n",
    "        #for c in opened_list:\n",
    "        #    print(c.lists)\n",
    "        #    print(\"weight: \", c.weight)\n",
    "        \n",
    "\n",
    "\n",
    "\n",
    "def main(N):\n",
    "    listOfList = problem(N)\n",
    "    print(listOfList)\n",
    "    print(\"start UCF\")\n",
    "    UCF(listOfList, N)\n",
    "        \n"
   ]
  },
  {
   "cell_type": "code",
   "execution_count": 16,
   "metadata": {},
   "outputs": [
    {
     "name": "stdout",
     "output_type": "stream",
     "text": [
      "[[0, 4], [1, 2, 3], [9, 6], [0, 1], [8, 9, 3], [8, 3], [0, 3, 4, 7, 9], [4, 5, 6], [1, 3, 5], [1, 6], [0, 9, 4, 5], [8, 1, 6], [9, 3, 5], [0, 3], [1, 3, 6], [2, 5, 7], [1, 3, 4, 9], [8, 2, 3], [3, 4, 5, 6, 8], [0, 3], [1, 3, 4, 6], [3, 6, 7], [2, 3, 4], [9, 6], [8, 2, 3, 7], [0, 1], [9, 2, 6], [6], [8, 0, 4, 1], [1, 4, 5, 6], [0, 4, 7], [8, 1, 4], [2, 5], [9, 5], [0, 1, 3, 4, 5], [9, 3], [1, 7], [8, 2], [8, 2, 7], [8, 9, 3, 6], [4, 5, 6], [8, 1, 3, 7], [0, 5], [0, 9, 3], [0, 3], [0, 5], [8, 3], [8, 2, 3, 7], [1, 3, 6, 7], [5, 6]]\n",
      "start UCF\n",
      "sol:  [[9, 6], [0, 1, 3, 4, 5], [8, 2, 7]]\n",
      "weight:  0\n",
      "number of nodes visited:  1337\n"
     ]
    }
   ],
   "source": [
    "main(10)"
   ]
  }
 ],
 "metadata": {
  "kernelspec": {
   "display_name": "Python 3.10.4 64-bit",
   "language": "python",
   "name": "python3"
  },
  "language_info": {
   "codemirror_mode": {
    "name": "ipython",
    "version": 3
   },
   "file_extension": ".py",
   "mimetype": "text/x-python",
   "name": "python",
   "nbconvert_exporter": "python",
   "pygments_lexer": "ipython3",
   "version": "3.10.4"
  },
  "orig_nbformat": 4,
  "vscode": {
   "interpreter": {
    "hash": "369f2c481f4da34e4445cda3fffd2e751bd1c4d706f27375911949ba6bb62e1c"
   }
  }
 },
 "nbformat": 4,
 "nbformat_minor": 2
}

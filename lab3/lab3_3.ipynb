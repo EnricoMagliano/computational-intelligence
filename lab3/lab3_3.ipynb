{
 "cells": [
  {
   "cell_type": "markdown",
   "metadata": {
    "pycharm": {
     "name": "#%% md\n"
    }
   },
   "source": [
    "Copyright **`(c)`** 2022 Giovanni Squillero `<squillero@polito.it>`  \n",
    "[`https://github.com/squillero/computational-intelligence`](https://github.com/squillero/computational-intelligence)  \n",
    "Free for personal or classroom use; see [`LICENSE.md`](https://github.com/squillero/computational-intelligence/blob/master/LICENSE.md) for details.  \n"
   ]
  },
  {
   "cell_type": "code",
   "execution_count": 421,
   "metadata": {},
   "outputs": [],
   "source": [
    "import logging\n",
    "from collections import namedtuple\n",
    "import random\n",
    "from typing import Callable\n",
    "from copy import deepcopy\n",
    "from itertools import accumulate\n",
    "from operator import xor\n",
    "from anytree import Node, RenderTree, search"
   ]
  },
  {
   "cell_type": "markdown",
   "metadata": {},
   "source": [
    "## The *Nim* and *Nimply* classes"
   ]
  },
  {
   "cell_type": "code",
   "execution_count": 422,
   "metadata": {},
   "outputs": [],
   "source": [
    "Nimply = namedtuple(\"Nimply\", \"row, num_objects\")"
   ]
  },
  {
   "cell_type": "code",
   "execution_count": 423,
   "metadata": {},
   "outputs": [],
   "source": [
    "class Nim:\n",
    "    def __init__(self, num_rows: int, k: int = None) -> None: #k is the max number of object that can be removed from a line\n",
    "        self._rows = [i * 2 + 1 for i in range(num_rows)]\n",
    "        self._k = k\n",
    "\n",
    "    def __bool__(self):\n",
    "        return sum(self._rows) > 0\n",
    "\n",
    "    def __str__(self):\n",
    "        return \"<\" + \" \".join(str(_) for _ in self._rows) + \">\"\n",
    "\n",
    "    @property\n",
    "    def rows(self) -> tuple:\n",
    "        return tuple(self._rows)\n",
    "\n",
    "    @property\n",
    "    def k(self) -> int:\n",
    "        return self._k\n",
    "\n",
    "    def nimming(self, ply: Nimply) -> None:\n",
    "        row, num_objects = ply\n",
    "        assert self._rows[row] >= num_objects\n",
    "        assert self._k is None or num_objects <= self._k\n",
    "        self._rows[row] -= num_objects"
   ]
  },
  {
   "cell_type": "markdown",
   "metadata": {},
   "source": [
    "## Sample (and silly) startegies "
   ]
  },
  {
   "cell_type": "code",
   "execution_count": 424,
   "metadata": {},
   "outputs": [],
   "source": [
    "def nim_sum(state: Nim) -> int:\n",
    "    *_, result = accumulate(state.rows, xor)\n",
    "    return result\n",
    "\n",
    "\n",
    "def cook_status(state: Nim) -> dict:\n",
    "    cooked = dict()\n",
    "    cooked[\"possible_moves\"] = [\n",
    "        (r, o) for r, c in enumerate(state.rows) for o in range(1, c + 1) if state.k is None or o <= state.k\n",
    "    ]\n",
    "    cooked[\"active_rows_number\"] = sum(o > 0 for o in state.rows)\n",
    "    cooked[\"shortest_row\"] = min((x for x in enumerate(state.rows) if x[1] > 0), key=lambda y: y[1])[0]\n",
    "    cooked[\"longest_row\"] = max((x for x in enumerate(state.rows)), key=lambda y: y[1])[0]\n",
    "    cooked[\"nim_sum\"] = nim_sum(state)    \n",
    "\n",
    "    brute_force = list()\n",
    "    for m in cooked[\"possible_moves\"]:\n",
    "        tmp = deepcopy(state)\n",
    "        tmp.nimming(m)\n",
    "        brute_force.append((m, nim_sum(tmp)))\n",
    "    cooked[\"brute_force\"] = brute_force\n",
    "\n",
    "    return cooked"
   ]
  },
  {
   "cell_type": "code",
   "execution_count": 425,
   "metadata": {},
   "outputs": [],
   "source": [
    "def pure_random(state: Nim) -> Nimply:\n",
    "    row = random.choice([r for r, c in enumerate(state.rows) if c > 0])\n",
    "    num_objects = random.randint(1, state.rows[row])\n",
    "    return Nimply(row, num_objects)"
   ]
  },
  {
   "cell_type": "code",
   "execution_count": 426,
   "metadata": {},
   "outputs": [],
   "source": [
    "def gabriele(state: Nim) -> Nimply:\n",
    "    \"\"\"Pick always the maximum possible number of the lowest row\"\"\"\n",
    "    possible_moves = [(r, o) for r, c in enumerate(state.rows) for o in range(1, c + 1)]\n",
    "    return Nimply(*max(possible_moves, key=lambda m: (-m[0], m[1])))"
   ]
  },
  {
   "cell_type": "code",
   "execution_count": 427,
   "metadata": {},
   "outputs": [],
   "source": [
    "def enrico(state: Nim) -> Nimply: #my strategy\n",
    "    data = cook_status(state)\n",
    "    if data[\"active_rows_number\"] == 1:\n",
    "        return (data[\"longest_row\"], state._rows[data[\"longest_row\"]])\n",
    "    else:\n",
    "        return (data[\"shortest_row\"], state._rows[data[\"shortest_row\"]])     "
   ]
  },
  {
   "cell_type": "code",
   "execution_count": 428,
   "metadata": {},
   "outputs": [],
   "source": [
    "def optimal_strategy(state: Nim) -> Nimply:\n",
    "    data = cook_status(state)\n",
    "    return next((bf for bf in data[\"brute_force\"] if bf[1] == 0), random.choice(data[\"brute_force\"]))[0]"
   ]
  },
  {
   "cell_type": "code",
   "execution_count": 429,
   "metadata": {},
   "outputs": [],
   "source": [
    "NUM_MATCHES = 1\n",
    "NIM_SIZE = 3"
   ]
  },
  {
   "attachments": {},
   "cell_type": "markdown",
   "metadata": {},
   "source": [
    "<h3>MinMax Agent</h3>"
   ]
  },
  {
   "cell_type": "code",
   "execution_count": 430,
   "metadata": {},
   "outputs": [],
   "source": [
    "class Agent():\n",
    "    def __init__(self, state: Nim):\n",
    "        self.nim = state\n",
    "        self.tree = None\n",
    "        \n",
    "    def createTree(self):\n",
    "        creation = True\n",
    "        self.tree = Node('root', value = list(self.nim.rows))\n",
    "        parents = [self.tree]\n",
    "        childs = []\n",
    "        level = 1\n",
    "        my_turn = True\n",
    "        while creation:\n",
    "            #print(\"level:\", level)\n",
    "            #print(\"parents: \", parents)\n",
    "            count_parents_no_child = 0\n",
    "            for parent in parents:\n",
    "                #print(parent)\n",
    "                moves = [(r, o) for r, c in enumerate(parent.value) for o in range(1, c + 1) ]\n",
    "                #print(\"moves\", moves)\n",
    "                if len(moves) == 0:\n",
    "                    count_parents_no_child+=1\n",
    "                else:    \n",
    "                    for ply in moves:\n",
    "                        aus = parent.value.copy()\n",
    "                        \n",
    "                        aus[ply[0]] = (aus[ply[0]] - ply[1])\n",
    "                        child = Node(level,value=aus, after_me=level%2, parent=parent)\n",
    "                        childs.append(child)\n",
    "            if count_parents_no_child == len(parents):\n",
    "                creation = False #no more node to explore\n",
    "            level+=1\n",
    "            my_turn != my_turn\n",
    "            parents = childs  \n",
    "            childs = []\n",
    "        #print(RenderTree(self.tree))    \n",
    "\n",
    "    def findMybestNextMove(self, root: Node) -> Nimply:\n",
    "        d = search.findall(root, filter_=lambda node: node.value == [0]*NIM_SIZE and node.after_me == 1)\n",
    "        best = min(d, key=lambda n: n.name)[0]\n",
    "        \n",
    "\n",
    "        return pure_random(self.nim)\n",
    "\n",
    "    def minmax(self) -> Nimply:\n",
    "        \n",
    "        if self.tree == None:\n",
    "            self.createTree()       #create tree for first time\n",
    "        else:\n",
    "            for child in self.tree.children:            #updaate tree root with the current nim state\n",
    "                if child.value == list(self.nim.rows):\n",
    "                    self.tree = child\n",
    "\n",
    "        self.findMybestNextMove(self.tree)            \n",
    "        \n",
    "        return pure_random(self.nim)"
   ]
  },
  {
   "cell_type": "code",
   "execution_count": 431,
   "metadata": {},
   "outputs": [],
   "source": [
    "\n",
    "def evaluate(opponent: Callable) -> float:\n",
    "    won = 0\n",
    "    last_player_start = 0\n",
    "    for m in range(NUM_MATCHES):\n",
    "        nim = Nim(NIM_SIZE)\n",
    "        agent = Agent(nim)\n",
    "        player = 1 - last_player_start\n",
    "        last_player_start = player\n",
    "        while nim:\n",
    "            if player == 0:\n",
    "                ply = opponent(nim)\n",
    "            else:\n",
    "                ply = agent.minmax()\n",
    "            nim.nimming(ply)\n",
    "            player = 1 - player\n",
    "        if player == 0:\n",
    "            won += 1\n",
    "\n",
    "    return won / NUM_MATCHES #percentage of match won agaist the opponent"
   ]
  },
  {
   "cell_type": "code",
   "execution_count": 432,
   "metadata": {},
   "outputs": [
    {
     "name": "stdout",
     "output_type": "stream",
     "text": [
      "Node('/root/1/2/3', after_me=1, value=[0, 0, 0])\n",
      "Node('/root/1/2/3', after_me=1, value=[0, 0, 0])\n",
      "Node('/root/1/2/3', after_me=1, value=[0, 0, 0])\n"
     ]
    },
    {
     "data": {
      "text/plain": [
       "1.0"
      ]
     },
     "execution_count": 432,
     "metadata": {},
     "output_type": "execute_result"
    }
   ],
   "source": [
    "evaluate(enrico) "
   ]
  }
 ],
 "metadata": {
  "kernelspec": {
   "display_name": "Python 3.10.4 64-bit",
   "language": "python",
   "name": "python3"
  },
  "language_info": {
   "codemirror_mode": {
    "name": "ipython",
    "version": 3
   },
   "file_extension": ".py",
   "mimetype": "text/x-python",
   "name": "python",
   "nbconvert_exporter": "python",
   "pygments_lexer": "ipython3",
   "version": "3.10.4"
  },
  "vscode": {
   "interpreter": {
    "hash": "369f2c481f4da34e4445cda3fffd2e751bd1c4d706f27375911949ba6bb62e1c"
   }
  }
 },
 "nbformat": 4,
 "nbformat_minor": 2
}

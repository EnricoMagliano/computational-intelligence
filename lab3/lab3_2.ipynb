{
 "cells": [
  {
   "cell_type": "markdown",
   "metadata": {
    "pycharm": {
     "name": "#%% md\n"
    }
   },
   "source": [
    "Copyright **`(c)`** 2022 Giovanni Squillero `<squillero@polito.it>`  \n",
    "[`https://github.com/squillero/computational-intelligence`](https://github.com/squillero/computational-intelligence)  \n",
    "Free for personal or classroom use; see [`LICENSE.md`](https://github.com/squillero/computational-intelligence/blob/master/LICENSE.md) for details.  \n"
   ]
  },
  {
   "cell_type": "code",
   "execution_count": 115,
   "metadata": {},
   "outputs": [],
   "source": [
    "import logging\n",
    "from collections import namedtuple\n",
    "import random\n",
    "from typing import Callable\n",
    "from copy import deepcopy\n",
    "from itertools import accumulate\n",
    "from operator import xor"
   ]
  },
  {
   "cell_type": "markdown",
   "metadata": {},
   "source": [
    "## The *Nim* and *Nimply* classes"
   ]
  },
  {
   "cell_type": "code",
   "execution_count": 116,
   "metadata": {},
   "outputs": [],
   "source": [
    "Nimply = namedtuple(\"Nimply\", \"row, num_objects\")"
   ]
  },
  {
   "cell_type": "code",
   "execution_count": 117,
   "metadata": {},
   "outputs": [],
   "source": [
    "class Nim:\n",
    "    def __init__(self, num_rows: int, k: int = None) -> None: #k is the max number of object that can be removed from a line\n",
    "        self._rows = [i * 2 + 1 for i in range(num_rows)]\n",
    "        self._k = k\n",
    "\n",
    "    def __bool__(self):\n",
    "        return sum(self._rows) > 0\n",
    "\n",
    "    def __str__(self):\n",
    "        return \"<\" + \" \".join(str(_) for _ in self._rows) + \">\"\n",
    "\n",
    "    @property\n",
    "    def rows(self) -> tuple:\n",
    "        return tuple(self._rows)\n",
    "\n",
    "    @property\n",
    "    def k(self) -> int:\n",
    "        return self._k\n",
    "\n",
    "    def nimming(self, ply: Nimply) -> None:\n",
    "        row, num_objects = ply\n",
    "        assert self._rows[row] >= num_objects\n",
    "        assert self._k is None or num_objects <= self._k\n",
    "        self._rows[row] -= num_objects"
   ]
  },
  {
   "cell_type": "markdown",
   "metadata": {},
   "source": [
    "## Sample (and silly) startegies "
   ]
  },
  {
   "cell_type": "code",
   "execution_count": 118,
   "metadata": {},
   "outputs": [],
   "source": [
    "def nim_sum(state: Nim) -> int:\n",
    "    *_, result = accumulate(state.rows, xor)\n",
    "    return result\n",
    "\n",
    "\n",
    "def cook_status(state: Nim) -> dict:\n",
    "    cooked = dict()\n",
    "    cooked[\"possible_moves\"] = [\n",
    "        (r, o) for r, c in enumerate(state.rows) for o in range(1, c + 1) if state.k is None or o <= state.k\n",
    "    ]\n",
    "    cooked[\"active_rows_number\"] = sum(o > 0 for o in state.rows)\n",
    "    cooked[\"shortest_row\"] = min((x for x in enumerate(state.rows) if x[1] > 0), key=lambda y: y[1])[0]\n",
    "    cooked[\"longest_row\"] = max((x for x in enumerate(state.rows)), key=lambda y: y[1])[0]\n",
    "    cooked[\"nim_sum\"] = nim_sum(state)    \n",
    "\n",
    "    brute_force = list()\n",
    "    for m in cooked[\"possible_moves\"]:\n",
    "        tmp = deepcopy(state)\n",
    "        tmp.nimming(m)\n",
    "        brute_force.append((m, nim_sum(tmp)))\n",
    "    cooked[\"brute_force\"] = brute_force\n",
    "\n",
    "    return cooked"
   ]
  },
  {
   "cell_type": "code",
   "execution_count": 119,
   "metadata": {},
   "outputs": [],
   "source": [
    "def pure_random(state: Nim) -> Nimply:\n",
    "    row = random.choice([r for r, c in enumerate(state.rows) if c > 0])\n",
    "    num_objects = random.randint(1, state.rows[row])\n",
    "    return Nimply(row, num_objects)"
   ]
  },
  {
   "cell_type": "code",
   "execution_count": 120,
   "metadata": {},
   "outputs": [],
   "source": [
    "def gabriele(state: Nim) -> Nimply:\n",
    "    \"\"\"Pick always the maximum possible number of the lowest row\"\"\"\n",
    "    possible_moves = [(r, o) for r, c in enumerate(state.rows) for o in range(1, c + 1)]\n",
    "    return Nimply(*max(possible_moves, key=lambda m: (-m[0], m[1])))"
   ]
  },
  {
   "cell_type": "code",
   "execution_count": 121,
   "metadata": {},
   "outputs": [],
   "source": [
    "def enrico(state: Nim) -> Nimply: #my strategy\n",
    "    data = cook_status(state)\n",
    "    if data[\"active_rows_number\"] == 1:\n",
    "        return (data[\"longest_row\"], state._rows[data[\"longest_row\"]])\n",
    "    else:\n",
    "        return (data[\"shortest_row\"], state._rows[data[\"shortest_row\"]])     "
   ]
  },
  {
   "cell_type": "code",
   "execution_count": 122,
   "metadata": {},
   "outputs": [],
   "source": [
    "def optimal_strategy(state: Nim) -> Nimply:\n",
    "    data = cook_status(state)\n",
    "    return next((bf for bf in data[\"brute_force\"] if bf[1] == 0), random.choice(data[\"brute_force\"]))[0]"
   ]
  },
  {
   "cell_type": "code",
   "execution_count": 123,
   "metadata": {},
   "outputs": [],
   "source": [
    "def hard_coded_strategy(state: Nim, genome) -> Nimply:\n",
    "    data = cook_status(state)\n",
    "    aggressive, pref_long, remove_perc = genome\n",
    "    if data[\"active_rows_number\"] == 1: #win conditions\n",
    "        return (data[\"longest_row\"], state._rows[data[\"longest_row\"]])\n",
    "        \n",
    "    if random.random() > 1-aggressive: #follow an aggressive strategy remove an entire line\n",
    "        if random.random() > 1-pref_long: \n",
    "            return (data[\"longest_row\"], state._rows[data[\"longest_row\"]])\n",
    "        else:\n",
    "            return (data[\"shortest_row\"], state._rows[data[\"shortest_row\"]])\n",
    "    else:   #follow an conservative strattegy remove only a few element in a line\n",
    "        if random.random() > 1-pref_long:\n",
    "            num_of_rem = round(state._rows[data[\"longest_row\"]]*remove_perc)\n",
    "            if num_of_rem == 0: \n",
    "                num_of_rem+=1 \n",
    "            return (data[\"longest_row\"], num_of_rem)\n",
    "        else:       \n",
    "            num_of_rem = round(state._rows[data[\"shortest_row\"]]*remove_perc)\n",
    "            if num_of_rem == 0: \n",
    "                num_of_rem+=1 \n",
    "            return (data[\"shortest_row\"], num_of_rem) \n",
    "    return pure_random(state)    \n",
    "        "
   ]
  },
  {
   "cell_type": "code",
   "execution_count": 124,
   "metadata": {},
   "outputs": [],
   "source": [
    "def make_strategy(genome: dict) -> Callable:\n",
    "    def evolvable(state: Nim) -> Nimply:\n",
    "        data = cook_status(state)\n",
    "\n",
    "        if random.random() < genome[\"p\"]:\n",
    "            ply = Nimply(data[\"shortest_row\"], random.randint(1, state.rows[data[\"shortest_row\"]]))\n",
    "        else:\n",
    "            ply = Nimply(data[\"longest_row\"], random.randint(1, state.rows[data[\"longest_row\"]]))\n",
    "\n",
    "        return ply\n",
    "\n",
    "    return evolvable"
   ]
  },
  {
   "cell_type": "code",
   "execution_count": 125,
   "metadata": {},
   "outputs": [],
   "source": [
    "NUM_MATCHES = 10\n",
    "NIM_SIZE = 10\n",
    "\n",
    "\n",
    "def evaluate(opponent: Callable, genome) -> float:\n",
    "    won = 0\n",
    "    last_player_start = 1\n",
    "    for m in range(NUM_MATCHES):\n",
    "        nim = Nim(NIM_SIZE)\n",
    "        player = 1 - last_player_start\n",
    "        last_player_start = player\n",
    "        while nim:\n",
    "            if player == 0:\n",
    "                ply = opponent(nim)\n",
    "            else:\n",
    "                ply = hard_coded_strategy(nim, genome)\n",
    "            nim.nimming(ply)\n",
    "            player = 1 - player\n",
    "        if player == 0:\n",
    "            won += 1\n",
    "\n",
    "    return won / NUM_MATCHES #percentage of match won agaist the opponent"
   ]
  },
  {
   "cell_type": "code",
   "execution_count": 126,
   "metadata": {},
   "outputs": [
    {
     "data": {
      "text/plain": [
       "0.8"
      ]
     },
     "execution_count": 126,
     "metadata": {},
     "output_type": "execute_result"
    }
   ],
   "source": [
    "evaluate(enrico, (0.5,0.5,0.5)) "
   ]
  },
  {
   "cell_type": "code",
   "execution_count": 127,
   "metadata": {},
   "outputs": [],
   "source": [
    "POPULATION_SIZE = 20\n",
    "OFFSPRING_SIZE = 10\n",
    "OPPONENT = gabriele"
   ]
  },
  {
   "cell_type": "code",
   "execution_count": 128,
   "metadata": {},
   "outputs": [],
   "source": [
    "def fitness(genome): # calcolate the fisness\n",
    "    return evaluate(OPPONENT, genome)"
   ]
  },
  {
   "cell_type": "code",
   "execution_count": 129,
   "metadata": {},
   "outputs": [],
   "source": [
    "def generatePopulation(): #return population, one individual is a tuple of a mask array of the list taken and his fitness\n",
    "    population = list()\n",
    "    for genome in range(POPULATION_SIZE):\n",
    "        genome = (random.random(), random.random(), random.random())\n",
    "        population.append((genome, fitness(genome)))\n",
    "    return population"
   ]
  },
  {
   "cell_type": "code",
   "execution_count": 130,
   "metadata": {},
   "outputs": [],
   "source": [
    "def mutation(g):\n",
    "\n",
    "    point = random.randint(0,len(g)-1)\n",
    "    return g[:point] + (random.random(),) + g[point+1:]"
   ]
  },
  {
   "cell_type": "code",
   "execution_count": 131,
   "metadata": {},
   "outputs": [],
   "source": [
    "def select_parent(population, tornament_size=10):\n",
    "    return max(random.choices(population, k=tornament_size), key=lambda i: i[1])"
   ]
  },
  {
   "cell_type": "code",
   "execution_count": 132,
   "metadata": {},
   "outputs": [],
   "source": [
    "def GA():\n",
    "    best_sol = None \n",
    "    best_sol_fit = None\n",
    "    \n",
    "    population = generatePopulation()\n",
    "    for generation in range(10):\n",
    "        offsprings = list()\n",
    "        for i in range(OFFSPRING_SIZE):\n",
    "            o = ()\n",
    "            p = select_parent(population)\n",
    "            o = mutation(p[0])\n",
    "            offsprings.append((o, fitness(o)))\n",
    "        population = population + offsprings   \n",
    "        population = sorted(population, key=lambda i:i[1], reverse=True)[:POPULATION_SIZE]\n",
    "            \n",
    "    best_sol = population[0][0]\n",
    "    best_sol_fit = population[0][1]\n",
    "    print(\"after 100 generations\")\n",
    "    print(\"best solution:\")\n",
    "    print(best_sol)\n",
    "    return best_sol"
   ]
  },
  {
   "cell_type": "code",
   "execution_count": 133,
   "metadata": {},
   "outputs": [
    {
     "name": "stdout",
     "output_type": "stream",
     "text": [
      "after 100 generations\n",
      "best solution:\n",
      "(0.18118635711206343, 0.03989713934750305, 0.07088704561671222)\n",
      "win-rate:\n"
     ]
    },
    {
     "data": {
      "text/plain": [
       "0.9"
      ]
     },
     "execution_count": 133,
     "metadata": {},
     "output_type": "execute_result"
    }
   ],
   "source": [
    "best_sol= GA()\n",
    "print(\"win-rate:\")\n",
    "evaluate(gabriele, best_sol)"
   ]
  }
 ],
 "metadata": {
  "kernelspec": {
   "display_name": "Python 3.10.2 64-bit",
   "language": "python",
   "name": "python3"
  },
  "language_info": {
   "codemirror_mode": {
    "name": "ipython",
    "version": 3
   },
   "file_extension": ".py",
   "mimetype": "text/x-python",
   "name": "python",
   "nbconvert_exporter": "python",
   "pygments_lexer": "ipython3",
   "version": "3.10.2"
  },
  "vscode": {
   "interpreter": {
    "hash": "26de051ba29f2982a8de78e945f0abaf191376122a1563185a90213a26c5da77"
   }
  }
 },
 "nbformat": 4,
 "nbformat_minor": 2
}
